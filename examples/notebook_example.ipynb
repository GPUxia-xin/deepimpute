{
 "cells": [
  {
   "cell_type": "markdown",
   "metadata": {},
   "source": [
    "# Single-cell RNA-seq imputation using DeepImpute\n",
    "\n",
    "Here is a comprehensive tutorial to understand the functionnalities of DeepImpute."
   ]
  },
  {
   "cell_type": "code",
   "execution_count": 1,
   "metadata": {},
   "outputs": [
    {
     "name": "stderr",
     "output_type": "stream",
     "text": [
      "Using TensorFlow backend.\n"
     ]
    },
    {
     "name": "stdout",
     "output_type": "stream",
     "text": [
      "Working on 500 cells and 3000 genes\n"
     ]
    }
   ],
   "source": [
    "from deepimpute.multinet import MultiNet\n",
    "import pandas as pd\n",
    "\n",
    "# Load dataset using pandas\n",
    "data = pd.read_csv('test.csv',index_col=0)\n",
    "print('Working on {} cells and {} genes'.format(*data.shape))"
   ]
  },
  {
   "cell_type": "markdown",
   "metadata": {},
   "source": [
    "## Create a DeepImpute multinet"
   ]
  },
  {
   "cell_type": "code",
   "execution_count": 2,
   "metadata": {},
   "outputs": [
    {
     "name": "stdout",
     "output_type": "stream",
     "text": [
      "Using all the cores (4)\n"
     ]
    }
   ],
   "source": [
    "# Using default parameters\n",
    "multinet = MultiNet() "
   ]
  },
  {
   "cell_type": "code",
   "execution_count": 4,
   "metadata": {},
   "outputs": [],
   "source": [
    "# Using custom parameters\n",
    "NN_params = {\n",
    "        'learning_rate': 1e-4,\n",
    "        'batch_size': 64,\n",
    "        'max_epochs': 200,\n",
    "        'ncores': 5,\n",
    "        'sub_outputdim': 512,\n",
    "        'architecture': [\n",
    "            {\"type\": \"dense\", \"activation\": \"relu\", \"neurons\": 200},\n",
    "            {\"type\": \"dropout\", \"activation\": \"dropout\", \"rate\": 0.3}]\n",
    "    }\n",
    "\n",
    "multinet = MultiNet(**NN_params)"
   ]
  },
  {
   "cell_type": "markdown",
   "metadata": {},
   "source": [
    "## Fit the networks"
   ]
  },
  {
   "cell_type": "code",
   "execution_count": null,
   "metadata": {},
   "outputs": [],
   "source": [
    "# Using all the data\n",
    "multinet.fit(data,cell_subset=1,minVMR=0.5)"
   ]
  },
  {
   "cell_type": "code",
   "execution_count": 5,
   "metadata": {},
   "outputs": [
    {
     "name": "stdout",
     "output_type": "stream",
     "text": [
      "3072 genes selected for imputation\n",
      "Net 0: 848 predictors, 512 targets\n",
      "Net 1: 839 predictors, 512 targets\n",
      "Net 2: 841 predictors, 512 targets\n",
      "Net 3: 841 predictors, 512 targets\n",
      "Net 4: 824 predictors, 512 targets\n",
      "Net 5: 763 predictors, 512 targets\n",
      "Normalization\n",
      "Building network\n",
      "[{'type': 'dense', 'activation': 'relu', 'neurons': 200}, {'type': 'dropout', 'activation': 'dropout', 'rate': 0.3}]\n",
      "Fitting with 250 cells\n",
      "Train on 238 samples, validate on 12 samples\n",
      "Epoch 1/200\n",
      "238/238 [==============================] - 1s 5ms/step - loss: 27.9152 - dense_19_loss: 5.2994 - dense_20_loss: 4.3443 - dense_21_loss: 4.4147 - dense_22_loss: 4.5893 - dense_23_loss: 3.8626 - dense_24_loss: 5.4048 - val_loss: 32.0546 - val_dense_19_loss: 6.0331 - val_dense_20_loss: 5.0119 - val_dense_21_loss: 5.1475 - val_dense_22_loss: 5.1163 - val_dense_23_loss: 4.5323 - val_dense_24_loss: 6.2136\n",
      "Epoch 2/200\n",
      "238/238 [==============================] - 0s 433us/step - loss: 25.1458 - dense_19_loss: 4.8155 - dense_20_loss: 3.8585 - dense_21_loss: 3.9554 - dense_22_loss: 4.1411 - dense_23_loss: 3.4601 - dense_24_loss: 4.9153 - val_loss: 28.3748 - val_dense_19_loss: 5.3284 - val_dense_20_loss: 4.3840 - val_dense_21_loss: 4.5635 - val_dense_22_loss: 4.5497 - val_dense_23_loss: 4.0335 - val_dense_24_loss: 5.5157\n",
      "Epoch 3/200\n",
      "238/238 [==============================] - 0s 408us/step - loss: 22.5763 - dense_19_loss: 4.3354 - dense_20_loss: 3.4155 - dense_21_loss: 3.5406 - dense_22_loss: 3.7539 - dense_23_loss: 3.1356 - dense_24_loss: 4.3953 - val_loss: 24.9811 - val_dense_19_loss: 4.6460 - val_dense_20_loss: 3.8163 - val_dense_21_loss: 4.0315 - val_dense_22_loss: 4.0400 - val_dense_23_loss: 3.5846 - val_dense_24_loss: 4.8627\n",
      "Epoch 4/200\n",
      "238/238 [==============================] - 0s 443us/step - loss: 20.4023 - dense_19_loss: 3.9366 - dense_20_loss: 3.0569 - dense_21_loss: 3.1736 - dense_22_loss: 3.4127 - dense_23_loss: 2.8219 - dense_24_loss: 4.0005 - val_loss: 22.0292 - val_dense_19_loss: 4.0682 - val_dense_20_loss: 3.3344 - val_dense_21_loss: 3.5620 - val_dense_22_loss: 3.5960 - val_dense_23_loss: 3.1719 - val_dense_24_loss: 4.2968\n",
      "Epoch 5/200\n",
      "238/238 [==============================] - 0s 448us/step - loss: 18.5274 - dense_19_loss: 3.5714 - dense_20_loss: 2.7802 - dense_21_loss: 2.8747 - dense_22_loss: 3.1176 - dense_23_loss: 2.5471 - dense_24_loss: 3.6365 - val_loss: 19.5278 - val_dense_19_loss: 3.6113 - val_dense_20_loss: 2.9164 - val_dense_21_loss: 3.1469 - val_dense_22_loss: 3.2086 - val_dense_23_loss: 2.8082 - val_dense_24_loss: 3.8365\n",
      "Epoch 6/200\n",
      "238/238 [==============================] - 0s 442us/step - loss: 17.0722 - dense_19_loss: 3.3218 - dense_20_loss: 2.5594 - dense_21_loss: 2.6395 - dense_22_loss: 2.8552 - dense_23_loss: 2.3408 - dense_24_loss: 3.3555 - val_loss: 17.5026 - val_dense_19_loss: 3.2645 - val_dense_20_loss: 2.5788 - val_dense_21_loss: 2.7951 - val_dense_22_loss: 2.8839 - val_dense_23_loss: 2.5149 - val_dense_24_loss: 3.4655\n",
      "Epoch 7/200\n",
      "238/238 [==============================] - 0s 454us/step - loss: 15.8810 - dense_19_loss: 3.0789 - dense_20_loss: 2.3779 - dense_21_loss: 2.4413 - dense_22_loss: 2.6464 - dense_23_loss: 2.1902 - dense_24_loss: 3.1463 - val_loss: 15.8848 - val_dense_19_loss: 3.0124 - val_dense_20_loss: 2.3288 - val_dense_21_loss: 2.5136 - val_dense_22_loss: 2.5987 - val_dense_23_loss: 2.2733 - val_dense_24_loss: 3.1580\n",
      "Epoch 8/200\n",
      "238/238 [==============================] - 0s 405us/step - loss: 14.8897 - dense_19_loss: 2.9115 - dense_20_loss: 2.2447 - dense_21_loss: 2.2460 - dense_22_loss: 2.4694 - dense_23_loss: 2.0335 - dense_24_loss: 2.9846 - val_loss: 14.5732 - val_dense_19_loss: 2.8194 - val_dense_20_loss: 2.1408 - val_dense_21_loss: 2.3003 - val_dense_22_loss: 2.3467 - val_dense_23_loss: 2.0722 - val_dense_24_loss: 2.8938\n",
      "Epoch 9/200\n",
      "238/238 [==============================] - 0s 424us/step - loss: 14.0188 - dense_19_loss: 2.7556 - dense_20_loss: 2.0913 - dense_21_loss: 2.1349 - dense_22_loss: 2.2770 - dense_23_loss: 1.9270 - dense_24_loss: 2.8330 - val_loss: 13.4737 - val_dense_19_loss: 2.6465 - val_dense_20_loss: 2.0001 - val_dense_21_loss: 2.1351 - val_dense_22_loss: 2.1337 - val_dense_23_loss: 1.9017 - val_dense_24_loss: 2.6565\n",
      "Epoch 10/200\n",
      "238/238 [==============================] - 0s 404us/step - loss: 13.2699 - dense_19_loss: 2.6291 - dense_20_loss: 1.9989 - dense_21_loss: 1.9992 - dense_22_loss: 2.1572 - dense_23_loss: 1.8337 - dense_24_loss: 2.6517 - val_loss: 12.5100 - val_dense_19_loss: 2.4676 - val_dense_20_loss: 1.8801 - val_dense_21_loss: 1.9958 - val_dense_22_loss: 1.9671 - val_dense_23_loss: 1.7534 - val_dense_24_loss: 2.4461\n",
      "Epoch 11/200\n",
      "238/238 [==============================] - 0s 456us/step - loss: 12.6756 - dense_19_loss: 2.4940 - dense_20_loss: 1.9323 - dense_21_loss: 1.9191 - dense_22_loss: 2.0380 - dense_23_loss: 1.7422 - dense_24_loss: 2.5499 - val_loss: 11.6100 - val_dense_19_loss: 2.2829 - val_dense_20_loss: 1.7582 - val_dense_21_loss: 1.8672 - val_dense_22_loss: 1.8170 - val_dense_23_loss: 1.6248 - val_dense_24_loss: 2.2599\n",
      "Epoch 12/200\n",
      "238/238 [==============================] - 0s 435us/step - loss: 12.1429 - dense_19_loss: 2.3961 - dense_20_loss: 1.8401 - dense_21_loss: 1.8405 - dense_22_loss: 1.9563 - dense_23_loss: 1.6611 - dense_24_loss: 2.4488 - val_loss: 10.7623 - val_dense_19_loss: 2.1021 - val_dense_20_loss: 1.6326 - val_dense_21_loss: 1.7408 - val_dense_22_loss: 1.6839 - val_dense_23_loss: 1.5104 - val_dense_24_loss: 2.0924\n",
      "Epoch 13/200\n",
      "238/238 [==============================] - 0s 479us/step - loss: 11.5049 - dense_19_loss: 2.2788 - dense_20_loss: 1.7428 - dense_21_loss: 1.7411 - dense_22_loss: 1.8492 - dense_23_loss: 1.5814 - dense_24_loss: 2.3117 - val_loss: 9.9779 - val_dense_19_loss: 1.9383 - val_dense_20_loss: 1.5149 - val_dense_21_loss: 1.6222 - val_dense_22_loss: 1.5640 - val_dense_23_loss: 1.4007 - val_dense_24_loss: 1.9378\n",
      "Epoch 14/200\n",
      "238/238 [==============================] - 0s 414us/step - loss: 11.0827 - dense_19_loss: 2.1830 - dense_20_loss: 1.6781 - dense_21_loss: 1.7032 - dense_22_loss: 1.7774 - dense_23_loss: 1.5233 - dense_24_loss: 2.2176 - val_loss: 9.2540 - val_dense_19_loss: 1.7985 - val_dense_20_loss: 1.4137 - val_dense_21_loss: 1.5030 - val_dense_22_loss: 1.4428 - val_dense_23_loss: 1.3104 - val_dense_24_loss: 1.7857\n",
      "Epoch 15/200\n",
      "238/238 [==============================] - 0s 484us/step - loss: 10.5205 - dense_19_loss: 2.0924 - dense_20_loss: 1.5910 - dense_21_loss: 1.6097 - dense_22_loss: 1.6869 - dense_23_loss: 1.4544 - dense_24_loss: 2.0862 - val_loss: 8.6682 - val_dense_19_loss: 1.6804 - val_dense_20_loss: 1.3356 - val_dense_21_loss: 1.4112 - val_dense_22_loss: 1.3471 - val_dense_23_loss: 1.2430 - val_dense_24_loss: 1.6508\n",
      "Epoch 16/200\n",
      "238/238 [==============================] - 0s 450us/step - loss: 10.1848 - dense_19_loss: 2.0003 - dense_20_loss: 1.5588 - dense_21_loss: 1.5533 - dense_22_loss: 1.6367 - dense_23_loss: 1.4102 - dense_24_loss: 2.0256 - val_loss: 8.1301 - val_dense_19_loss: 1.5653 - val_dense_20_loss: 1.2612 - val_dense_21_loss: 1.3380 - val_dense_22_loss: 1.2628 - val_dense_23_loss: 1.1648 - val_dense_24_loss: 1.5381\n",
      "Epoch 17/200\n",
      "238/238 [==============================] - 0s 427us/step - loss: 9.7250 - dense_19_loss: 1.9161 - dense_20_loss: 1.4921 - dense_21_loss: 1.4948 - dense_22_loss: 1.5655 - dense_23_loss: 1.3365 - dense_24_loss: 1.9200 - val_loss: 7.5839 - val_dense_19_loss: 1.4464 - val_dense_20_loss: 1.1799 - val_dense_21_loss: 1.2603 - val_dense_22_loss: 1.1742 - val_dense_23_loss: 1.0910 - val_dense_24_loss: 1.4322\n",
      "Epoch 18/200\n",
      "238/238 [==============================] - 0s 396us/step - loss: 9.4089 - dense_19_loss: 1.8430 - dense_20_loss: 1.4549 - dense_21_loss: 1.4316 - dense_22_loss: 1.5127 - dense_23_loss: 1.2897 - dense_24_loss: 1.8771 - val_loss: 7.0980 - val_dense_19_loss: 1.3374 - val_dense_20_loss: 1.1142 - val_dense_21_loss: 1.1889 - val_dense_22_loss: 1.1026 - val_dense_23_loss: 1.0258 - val_dense_24_loss: 1.3291\n",
      "Epoch 19/200\n",
      "238/238 [==============================] - 0s 397us/step - loss: 9.1456 - dense_19_loss: 1.7762 - dense_20_loss: 1.4013 - dense_21_loss: 1.4017 - dense_22_loss: 1.4742 - dense_23_loss: 1.2742 - dense_24_loss: 1.8180 - val_loss: 6.6705 - val_dense_19_loss: 1.2473 - val_dense_20_loss: 1.0548 - val_dense_21_loss: 1.1226 - val_dense_22_loss: 1.0387 - val_dense_23_loss: 0.9734 - val_dense_24_loss: 1.2337\n"
     ]
    },
    {
     "name": "stdout",
     "output_type": "stream",
     "text": [
      "Epoch 20/200\n",
      "238/238 [==============================] - 0s 393us/step - loss: 8.8702 - dense_19_loss: 1.7462 - dense_20_loss: 1.3634 - dense_21_loss: 1.3565 - dense_22_loss: 1.4306 - dense_23_loss: 1.2222 - dense_24_loss: 1.7512 - val_loss: 6.2637 - val_dense_19_loss: 1.1666 - val_dense_20_loss: 0.9941 - val_dense_21_loss: 1.0558 - val_dense_22_loss: 0.9726 - val_dense_23_loss: 0.9219 - val_dense_24_loss: 1.1527\n",
      "Epoch 21/200\n",
      "238/238 [==============================] - 0s 509us/step - loss: 8.4533 - dense_19_loss: 1.6640 - dense_20_loss: 1.3292 - dense_21_loss: 1.2929 - dense_22_loss: 1.3470 - dense_23_loss: 1.1747 - dense_24_loss: 1.6455 - val_loss: 5.9226 - val_dense_19_loss: 1.0918 - val_dense_20_loss: 0.9434 - val_dense_21_loss: 1.0007 - val_dense_22_loss: 0.9270 - val_dense_23_loss: 0.8629 - val_dense_24_loss: 1.0969\n",
      "Epoch 22/200\n",
      "238/238 [==============================] - 0s 388us/step - loss: 8.2901 - dense_19_loss: 1.6359 - dense_20_loss: 1.2951 - dense_21_loss: 1.2787 - dense_22_loss: 1.3234 - dense_23_loss: 1.1287 - dense_24_loss: 1.6282 - val_loss: 5.6128 - val_dense_19_loss: 1.0299 - val_dense_20_loss: 0.8981 - val_dense_21_loss: 0.9429 - val_dense_22_loss: 0.8935 - val_dense_23_loss: 0.8168 - val_dense_24_loss: 1.0315\n",
      "Epoch 23/200\n",
      "238/238 [==============================] - 0s 448us/step - loss: 7.9646 - dense_19_loss: 1.5537 - dense_20_loss: 1.2374 - dense_21_loss: 1.2129 - dense_22_loss: 1.2791 - dense_23_loss: 1.1036 - dense_24_loss: 1.5779 - val_loss: 5.3096 - val_dense_19_loss: 0.9727 - val_dense_20_loss: 0.8515 - val_dense_21_loss: 0.9003 - val_dense_22_loss: 0.8411 - val_dense_23_loss: 0.7831 - val_dense_24_loss: 0.9610\n",
      "Epoch 24/200\n",
      "238/238 [==============================] - 0s 381us/step - loss: 7.7350 - dense_19_loss: 1.4931 - dense_20_loss: 1.2184 - dense_21_loss: 1.2136 - dense_22_loss: 1.2335 - dense_23_loss: 1.0802 - dense_24_loss: 1.4962 - val_loss: 5.0053 - val_dense_19_loss: 0.9126 - val_dense_20_loss: 0.8174 - val_dense_21_loss: 0.8488 - val_dense_22_loss: 0.7916 - val_dense_23_loss: 0.7345 - val_dense_24_loss: 0.9004\n",
      "Epoch 25/200\n",
      "238/238 [==============================] - 0s 387us/step - loss: 7.5721 - dense_19_loss: 1.4782 - dense_20_loss: 1.1948 - dense_21_loss: 1.1594 - dense_22_loss: 1.2058 - dense_23_loss: 1.0443 - dense_24_loss: 1.4896 - val_loss: 4.7779 - val_dense_19_loss: 0.8614 - val_dense_20_loss: 0.7804 - val_dense_21_loss: 0.7979 - val_dense_22_loss: 0.7679 - val_dense_23_loss: 0.7018 - val_dense_24_loss: 0.8685\n",
      "Epoch 26/200\n",
      "238/238 [==============================] - 0s 433us/step - loss: 7.3697 - dense_19_loss: 1.4266 - dense_20_loss: 1.1632 - dense_21_loss: 1.1067 - dense_22_loss: 1.1947 - dense_23_loss: 1.0237 - dense_24_loss: 1.4549 - val_loss: 4.5260 - val_dense_19_loss: 0.8108 - val_dense_20_loss: 0.7400 - val_dense_21_loss: 0.7645 - val_dense_22_loss: 0.7226 - val_dense_23_loss: 0.6615 - val_dense_24_loss: 0.8265\n",
      "Epoch 27/200\n",
      "238/238 [==============================] - 0s 414us/step - loss: 7.2207 - dense_19_loss: 1.4215 - dense_20_loss: 1.1304 - dense_21_loss: 1.0809 - dense_22_loss: 1.1634 - dense_23_loss: 1.0027 - dense_24_loss: 1.4218 - val_loss: 4.3179 - val_dense_19_loss: 0.7648 - val_dense_20_loss: 0.7158 - val_dense_21_loss: 0.7451 - val_dense_22_loss: 0.6820 - val_dense_23_loss: 0.6384 - val_dense_24_loss: 0.7718\n",
      "Epoch 28/200\n",
      "238/238 [==============================] - 0s 457us/step - loss: 6.9568 - dense_19_loss: 1.3481 - dense_20_loss: 1.0944 - dense_21_loss: 1.0679 - dense_22_loss: 1.1567 - dense_23_loss: 0.9555 - dense_24_loss: 1.3342 - val_loss: 4.1649 - val_dense_19_loss: 0.7417 - val_dense_20_loss: 0.6941 - val_dense_21_loss: 0.7094 - val_dense_22_loss: 0.6510 - val_dense_23_loss: 0.6251 - val_dense_24_loss: 0.7436\n",
      "Epoch 29/200\n",
      "238/238 [==============================] - 0s 457us/step - loss: 6.9123 - dense_19_loss: 1.3383 - dense_20_loss: 1.0784 - dense_21_loss: 1.0504 - dense_22_loss: 1.1216 - dense_23_loss: 0.9674 - dense_24_loss: 1.3563 - val_loss: 4.0026 - val_dense_19_loss: 0.7109 - val_dense_20_loss: 0.6656 - val_dense_21_loss: 0.6687 - val_dense_22_loss: 0.6443 - val_dense_23_loss: 0.5935 - val_dense_24_loss: 0.7196\n",
      "Epoch 30/200\n",
      "238/238 [==============================] - 0s 438us/step - loss: 6.5571 - dense_19_loss: 1.2720 - dense_20_loss: 1.0340 - dense_21_loss: 1.0027 - dense_22_loss: 1.0702 - dense_23_loss: 0.9096 - dense_24_loss: 1.2685 - val_loss: 3.8121 - val_dense_19_loss: 0.6619 - val_dense_20_loss: 0.6383 - val_dense_21_loss: 0.6404 - val_dense_22_loss: 0.6198 - val_dense_23_loss: 0.5645 - val_dense_24_loss: 0.6872\n",
      "Epoch 31/200\n",
      "238/238 [==============================] - 0s 423us/step - loss: 6.4659 - dense_19_loss: 1.2513 - dense_20_loss: 1.0095 - dense_21_loss: 0.9964 - dense_22_loss: 1.0693 - dense_23_loss: 0.8920 - dense_24_loss: 1.2474 - val_loss: 3.7316 - val_dense_19_loss: 0.6423 - val_dense_20_loss: 0.6403 - val_dense_21_loss: 0.6256 - val_dense_22_loss: 0.5924 - val_dense_23_loss: 0.5584 - val_dense_24_loss: 0.6726\n",
      "Epoch 32/200\n",
      "238/238 [==============================] - 0s 365us/step - loss: 6.3786 - dense_19_loss: 1.2468 - dense_20_loss: 1.0225 - dense_21_loss: 0.9561 - dense_22_loss: 1.0375 - dense_23_loss: 0.8832 - dense_24_loss: 1.2324 - val_loss: 3.6094 - val_dense_19_loss: 0.6251 - val_dense_20_loss: 0.6093 - val_dense_21_loss: 0.6016 - val_dense_22_loss: 0.5807 - val_dense_23_loss: 0.5353 - val_dense_24_loss: 0.6574\n",
      "Epoch 33/200\n",
      "238/238 [==============================] - 0s 413us/step - loss: 6.1950 - dense_19_loss: 1.2154 - dense_20_loss: 0.9856 - dense_21_loss: 0.9387 - dense_22_loss: 0.9939 - dense_23_loss: 0.8454 - dense_24_loss: 1.2161 - val_loss: 3.4627 - val_dense_19_loss: 0.5990 - val_dense_20_loss: 0.5751 - val_dense_21_loss: 0.5793 - val_dense_22_loss: 0.5744 - val_dense_23_loss: 0.5105 - val_dense_24_loss: 0.6244\n",
      "Epoch 34/200\n",
      "238/238 [==============================] - 0s 510us/step - loss: 6.1136 - dense_19_loss: 1.1809 - dense_20_loss: 0.9895 - dense_21_loss: 0.9240 - dense_22_loss: 0.9976 - dense_23_loss: 0.8410 - dense_24_loss: 1.1806 - val_loss: 3.3192 - val_dense_19_loss: 0.5841 - val_dense_20_loss: 0.5560 - val_dense_21_loss: 0.5591 - val_dense_22_loss: 0.5334 - val_dense_23_loss: 0.5008 - val_dense_24_loss: 0.5858\n",
      "Epoch 35/200\n",
      "238/238 [==============================] - 0s 486us/step - loss: 5.9886 - dense_19_loss: 1.1348 - dense_20_loss: 0.9766 - dense_21_loss: 0.9235 - dense_22_loss: 0.9766 - dense_23_loss: 0.8231 - dense_24_loss: 1.1539 - val_loss: 3.1852 - val_dense_19_loss: 0.5638 - val_dense_20_loss: 0.5431 - val_dense_21_loss: 0.5219 - val_dense_22_loss: 0.5047 - val_dense_23_loss: 0.4866 - val_dense_24_loss: 0.5650\n",
      "Epoch 36/200\n",
      "238/238 [==============================] - 0s 468us/step - loss: 5.8102 - dense_19_loss: 1.1326 - dense_20_loss: 0.9281 - dense_21_loss: 0.8892 - dense_22_loss: 0.9400 - dense_23_loss: 0.8055 - dense_24_loss: 1.1149 - val_loss: 3.1479 - val_dense_19_loss: 0.5380 - val_dense_20_loss: 0.5434 - val_dense_21_loss: 0.5057 - val_dense_22_loss: 0.5212 - val_dense_23_loss: 0.4790 - val_dense_24_loss: 0.5605\n",
      "Epoch 37/200\n",
      "238/238 [==============================] - 0s 476us/step - loss: 5.7239 - dense_19_loss: 1.1164 - dense_20_loss: 0.9274 - dense_21_loss: 0.8571 - dense_22_loss: 0.9449 - dense_23_loss: 0.7913 - dense_24_loss: 1.0867 - val_loss: 3.1154 - val_dense_19_loss: 0.5203 - val_dense_20_loss: 0.5253 - val_dense_21_loss: 0.5256 - val_dense_22_loss: 0.5189 - val_dense_23_loss: 0.4731 - val_dense_24_loss: 0.5522\n",
      "Epoch 38/200\n",
      "238/238 [==============================] - 0s 433us/step - loss: 5.7087 - dense_19_loss: 1.1014 - dense_20_loss: 0.9229 - dense_21_loss: 0.8510 - dense_22_loss: 0.9464 - dense_23_loss: 0.7981 - dense_24_loss: 1.0889 - val_loss: 2.9831 - val_dense_19_loss: 0.5057 - val_dense_20_loss: 0.5005 - val_dense_21_loss: 0.5053 - val_dense_22_loss: 0.4832 - val_dense_23_loss: 0.4504 - val_dense_24_loss: 0.5380\n",
      "Epoch 39/200\n",
      "238/238 [==============================] - 0s 469us/step - loss: 5.5912 - dense_19_loss: 1.0937 - dense_20_loss: 0.8957 - dense_21_loss: 0.8395 - dense_22_loss: 0.9191 - dense_23_loss: 0.7767 - dense_24_loss: 1.0664 - val_loss: 2.9295 - val_dense_19_loss: 0.4941 - val_dense_20_loss: 0.5118 - val_dense_21_loss: 0.4760 - val_dense_22_loss: 0.4672 - val_dense_23_loss: 0.4513 - val_dense_24_loss: 0.5292\n"
     ]
    },
    {
     "name": "stdout",
     "output_type": "stream",
     "text": [
      "Epoch 40/200\n",
      "238/238 [==============================] - 0s 526us/step - loss: 5.5575 - dense_19_loss: 1.0798 - dense_20_loss: 0.9070 - dense_21_loss: 0.8272 - dense_22_loss: 0.9102 - dense_23_loss: 0.7706 - dense_24_loss: 1.0627 - val_loss: 2.8307 - val_dense_19_loss: 0.4794 - val_dense_20_loss: 0.4736 - val_dense_21_loss: 0.4542 - val_dense_22_loss: 0.4747 - val_dense_23_loss: 0.4348 - val_dense_24_loss: 0.5140\n",
      "Epoch 41/200\n",
      "238/238 [==============================] - 0s 419us/step - loss: 5.4591 - dense_19_loss: 1.0370 - dense_20_loss: 0.8730 - dense_21_loss: 0.8274 - dense_22_loss: 0.8988 - dense_23_loss: 0.7622 - dense_24_loss: 1.0607 - val_loss: 2.7543 - val_dense_19_loss: 0.4724 - val_dense_20_loss: 0.4807 - val_dense_21_loss: 0.4536 - val_dense_22_loss: 0.4488 - val_dense_23_loss: 0.4189 - val_dense_24_loss: 0.4800\n",
      "Epoch 42/200\n",
      "238/238 [==============================] - 0s 471us/step - loss: 5.4187 - dense_19_loss: 1.0430 - dense_20_loss: 0.8719 - dense_21_loss: 0.8212 - dense_22_loss: 0.9129 - dense_23_loss: 0.7393 - dense_24_loss: 1.0304 - val_loss: 2.7255 - val_dense_19_loss: 0.4718 - val_dense_20_loss: 0.4859 - val_dense_21_loss: 0.4452 - val_dense_22_loss: 0.4268 - val_dense_23_loss: 0.4210 - val_dense_24_loss: 0.4748\n",
      "Epoch 43/200\n",
      "238/238 [==============================] - 0s 450us/step - loss: 5.2574 - dense_19_loss: 1.0042 - dense_20_loss: 0.8525 - dense_21_loss: 0.8075 - dense_22_loss: 0.8666 - dense_23_loss: 0.7421 - dense_24_loss: 0.9846 - val_loss: 2.6623 - val_dense_19_loss: 0.4511 - val_dense_20_loss: 0.4428 - val_dense_21_loss: 0.4245 - val_dense_22_loss: 0.4443 - val_dense_23_loss: 0.4037 - val_dense_24_loss: 0.4959\n",
      "Epoch 44/200\n",
      "238/238 [==============================] - 0s 483us/step - loss: 5.1728 - dense_19_loss: 1.0089 - dense_20_loss: 0.8251 - dense_21_loss: 0.7868 - dense_22_loss: 0.8509 - dense_23_loss: 0.7149 - dense_24_loss: 0.9862 - val_loss: 2.7142 - val_dense_19_loss: 0.4501 - val_dense_20_loss: 0.4698 - val_dense_21_loss: 0.4294 - val_dense_22_loss: 0.4645 - val_dense_23_loss: 0.4149 - val_dense_24_loss: 0.4855\n",
      "Epoch 45/200\n",
      "238/238 [==============================] - 0s 424us/step - loss: 5.1369 - dense_19_loss: 0.9991 - dense_20_loss: 0.8294 - dense_21_loss: 0.7777 - dense_22_loss: 0.8463 - dense_23_loss: 0.7157 - dense_24_loss: 0.9688 - val_loss: 2.5863 - val_dense_19_loss: 0.4411 - val_dense_20_loss: 0.4669 - val_dense_21_loss: 0.4184 - val_dense_22_loss: 0.4093 - val_dense_23_loss: 0.4043 - val_dense_24_loss: 0.4462\n",
      "Epoch 46/200\n",
      "238/238 [==============================] - 0s 389us/step - loss: 5.1035 - dense_19_loss: 0.9960 - dense_20_loss: 0.8190 - dense_21_loss: 0.7598 - dense_22_loss: 0.8444 - dense_23_loss: 0.7040 - dense_24_loss: 0.9804 - val_loss: 2.5196 - val_dense_19_loss: 0.4251 - val_dense_20_loss: 0.4392 - val_dense_21_loss: 0.4257 - val_dense_22_loss: 0.3954 - val_dense_23_loss: 0.3840 - val_dense_24_loss: 0.4503\n",
      "Epoch 47/200\n",
      "238/238 [==============================] - 0s 519us/step - loss: 5.0437 - dense_19_loss: 0.9827 - dense_20_loss: 0.8090 - dense_21_loss: 0.7699 - dense_22_loss: 0.8383 - dense_23_loss: 0.6974 - dense_24_loss: 0.9465 - val_loss: 2.5449 - val_dense_19_loss: 0.4251 - val_dense_20_loss: 0.4439 - val_dense_21_loss: 0.4015 - val_dense_22_loss: 0.4244 - val_dense_23_loss: 0.3977 - val_dense_24_loss: 0.4523\n",
      "Epoch 48/200\n",
      "238/238 [==============================] - 0s 446us/step - loss: 4.9331 - dense_19_loss: 0.9427 - dense_20_loss: 0.8036 - dense_21_loss: 0.7402 - dense_22_loss: 0.8219 - dense_23_loss: 0.6865 - dense_24_loss: 0.9383 - val_loss: 2.5246 - val_dense_19_loss: 0.4115 - val_dense_20_loss: 0.4426 - val_dense_21_loss: 0.4111 - val_dense_22_loss: 0.4160 - val_dense_23_loss: 0.4002 - val_dense_24_loss: 0.4431\n",
      "Epoch 49/200\n",
      "238/238 [==============================] - 0s 459us/step - loss: 4.9427 - dense_19_loss: 0.9453 - dense_20_loss: 0.8107 - dense_21_loss: 0.7450 - dense_22_loss: 0.8168 - dense_23_loss: 0.6936 - dense_24_loss: 0.9314 - val_loss: 2.3807 - val_dense_19_loss: 0.4054 - val_dense_20_loss: 0.4091 - val_dense_21_loss: 0.3848 - val_dense_22_loss: 0.3866 - val_dense_23_loss: 0.3596 - val_dense_24_loss: 0.4353\n",
      "Epoch 50/200\n",
      "238/238 [==============================] - 0s 460us/step - loss: 4.8238 - dense_19_loss: 0.9439 - dense_20_loss: 0.7780 - dense_21_loss: 0.7345 - dense_22_loss: 0.7881 - dense_23_loss: 0.6682 - dense_24_loss: 0.9111 - val_loss: 2.4751 - val_dense_19_loss: 0.4078 - val_dense_20_loss: 0.4362 - val_dense_21_loss: 0.3832 - val_dense_22_loss: 0.4192 - val_dense_23_loss: 0.3977 - val_dense_24_loss: 0.4309\n",
      "Epoch 51/200\n",
      "238/238 [==============================] - 0s 450us/step - loss: 4.7870 - dense_19_loss: 0.9220 - dense_20_loss: 0.7661 - dense_21_loss: 0.7283 - dense_22_loss: 0.8059 - dense_23_loss: 0.6705 - dense_24_loss: 0.8942 - val_loss: 2.4571 - val_dense_19_loss: 0.4166 - val_dense_20_loss: 0.4341 - val_dense_21_loss: 0.3932 - val_dense_22_loss: 0.4054 - val_dense_23_loss: 0.3708 - val_dense_24_loss: 0.4370\n",
      "Epoch 52/200\n",
      "238/238 [==============================] - 0s 513us/step - loss: 4.6726 - dense_19_loss: 0.8819 - dense_20_loss: 0.7669 - dense_21_loss: 0.6978 - dense_22_loss: 0.7808 - dense_23_loss: 0.6508 - dense_24_loss: 0.8944 - val_loss: 2.4040 - val_dense_19_loss: 0.4039 - val_dense_20_loss: 0.4059 - val_dense_21_loss: 0.3926 - val_dense_22_loss: 0.3801 - val_dense_23_loss: 0.3816 - val_dense_24_loss: 0.4398\n",
      "Epoch 53/200\n",
      "238/238 [==============================] - 0s 462us/step - loss: 4.6487 - dense_19_loss: 0.8867 - dense_20_loss: 0.7643 - dense_21_loss: 0.6904 - dense_22_loss: 0.7666 - dense_23_loss: 0.6503 - dense_24_loss: 0.8905 - val_loss: 2.3508 - val_dense_19_loss: 0.3876 - val_dense_20_loss: 0.4123 - val_dense_21_loss: 0.3791 - val_dense_22_loss: 0.3948 - val_dense_23_loss: 0.3783 - val_dense_24_loss: 0.3986\n",
      "Epoch 54/200\n",
      "238/238 [==============================] - 0s 446us/step - loss: 4.6758 - dense_19_loss: 0.8927 - dense_20_loss: 0.7507 - dense_21_loss: 0.7133 - dense_22_loss: 0.7716 - dense_23_loss: 0.6634 - dense_24_loss: 0.8841 - val_loss: 2.3102 - val_dense_19_loss: 0.3920 - val_dense_20_loss: 0.4136 - val_dense_21_loss: 0.3699 - val_dense_22_loss: 0.3829 - val_dense_23_loss: 0.3515 - val_dense_24_loss: 0.4003\n",
      "Epoch 55/200\n",
      "238/238 [==============================] - 0s 490us/step - loss: 4.5986 - dense_19_loss: 0.8829 - dense_20_loss: 0.7425 - dense_21_loss: 0.7038 - dense_22_loss: 0.7596 - dense_23_loss: 0.6426 - dense_24_loss: 0.8672 - val_loss: 2.2764 - val_dense_19_loss: 0.3868 - val_dense_20_loss: 0.3923 - val_dense_21_loss: 0.3578 - val_dense_22_loss: 0.3688 - val_dense_23_loss: 0.3525 - val_dense_24_loss: 0.4182\n",
      "Epoch 56/200\n",
      "238/238 [==============================] - 0s 448us/step - loss: 4.5551 - dense_19_loss: 0.8747 - dense_20_loss: 0.7265 - dense_21_loss: 0.6872 - dense_22_loss: 0.7636 - dense_23_loss: 0.6341 - dense_24_loss: 0.8690 - val_loss: 2.2880 - val_dense_19_loss: 0.3706 - val_dense_20_loss: 0.4138 - val_dense_21_loss: 0.3641 - val_dense_22_loss: 0.3748 - val_dense_23_loss: 0.3627 - val_dense_24_loss: 0.4020\n",
      "Epoch 57/200\n",
      "238/238 [==============================] - 0s 369us/step - loss: 4.4905 - dense_19_loss: 0.8539 - dense_20_loss: 0.7285 - dense_21_loss: 0.6885 - dense_22_loss: 0.7425 - dense_23_loss: 0.6241 - dense_24_loss: 0.8529 - val_loss: 2.2730 - val_dense_19_loss: 0.3777 - val_dense_20_loss: 0.4046 - val_dense_21_loss: 0.3634 - val_dense_22_loss: 0.3775 - val_dense_23_loss: 0.3656 - val_dense_24_loss: 0.3842\n",
      "Epoch 58/200\n",
      "238/238 [==============================] - 0s 426us/step - loss: 4.4144 - dense_19_loss: 0.8431 - dense_20_loss: 0.7270 - dense_21_loss: 0.6648 - dense_22_loss: 0.7334 - dense_23_loss: 0.6239 - dense_24_loss: 0.8223 - val_loss: 2.2545 - val_dense_19_loss: 0.3762 - val_dense_20_loss: 0.3772 - val_dense_21_loss: 0.3743 - val_dense_22_loss: 0.3725 - val_dense_23_loss: 0.3467 - val_dense_24_loss: 0.4075\n",
      "Epoch 59/200\n",
      "238/238 [==============================] - 0s 412us/step - loss: 4.4429 - dense_19_loss: 0.8451 - dense_20_loss: 0.7252 - dense_21_loss: 0.6856 - dense_22_loss: 0.7351 - dense_23_loss: 0.6205 - dense_24_loss: 0.8314 - val_loss: 2.2256 - val_dense_19_loss: 0.3692 - val_dense_20_loss: 0.3867 - val_dense_21_loss: 0.3436 - val_dense_22_loss: 0.3683 - val_dense_23_loss: 0.3477 - val_dense_24_loss: 0.4101\n"
     ]
    },
    {
     "name": "stdout",
     "output_type": "stream",
     "text": [
      "Epoch 60/200\n",
      "238/238 [==============================] - 0s 417us/step - loss: 4.3803 - dense_19_loss: 0.8178 - dense_20_loss: 0.7100 - dense_21_loss: 0.6657 - dense_22_loss: 0.7328 - dense_23_loss: 0.6123 - dense_24_loss: 0.8416 - val_loss: 2.1896 - val_dense_19_loss: 0.3797 - val_dense_20_loss: 0.3904 - val_dense_21_loss: 0.3412 - val_dense_22_loss: 0.3592 - val_dense_23_loss: 0.3548 - val_dense_24_loss: 0.3642\n",
      "Epoch 61/200\n",
      "238/238 [==============================] - 0s 392us/step - loss: 4.3089 - dense_19_loss: 0.8247 - dense_20_loss: 0.6944 - dense_21_loss: 0.6420 - dense_22_loss: 0.7347 - dense_23_loss: 0.5995 - dense_24_loss: 0.8137 - val_loss: 2.2014 - val_dense_19_loss: 0.3569 - val_dense_20_loss: 0.3916 - val_dense_21_loss: 0.3773 - val_dense_22_loss: 0.3536 - val_dense_23_loss: 0.3497 - val_dense_24_loss: 0.3724\n",
      "Epoch 62/200\n",
      "238/238 [==============================] - 0s 368us/step - loss: 4.2898 - dense_19_loss: 0.8172 - dense_20_loss: 0.7040 - dense_21_loss: 0.6546 - dense_22_loss: 0.7046 - dense_23_loss: 0.6058 - dense_24_loss: 0.8035 - val_loss: 2.1489 - val_dense_19_loss: 0.3559 - val_dense_20_loss: 0.3716 - val_dense_21_loss: 0.3249 - val_dense_22_loss: 0.3616 - val_dense_23_loss: 0.3330 - val_dense_24_loss: 0.4019\n",
      "Epoch 63/200\n",
      "238/238 [==============================] - 0s 423us/step - loss: 4.2755 - dense_19_loss: 0.8136 - dense_20_loss: 0.6831 - dense_21_loss: 0.6403 - dense_22_loss: 0.7322 - dense_23_loss: 0.6006 - dense_24_loss: 0.8056 - val_loss: 2.1372 - val_dense_19_loss: 0.3552 - val_dense_20_loss: 0.3780 - val_dense_21_loss: 0.3502 - val_dense_22_loss: 0.3456 - val_dense_23_loss: 0.3366 - val_dense_24_loss: 0.3716\n",
      "Epoch 64/200\n",
      "238/238 [==============================] - 0s 428us/step - loss: 4.1782 - dense_19_loss: 0.7964 - dense_20_loss: 0.6832 - dense_21_loss: 0.6313 - dense_22_loss: 0.6920 - dense_23_loss: 0.5899 - dense_24_loss: 0.7854 - val_loss: 2.1842 - val_dense_19_loss: 0.3500 - val_dense_20_loss: 0.3712 - val_dense_21_loss: 0.3682 - val_dense_22_loss: 0.3604 - val_dense_23_loss: 0.3637 - val_dense_24_loss: 0.3707\n",
      "Epoch 65/200\n",
      "238/238 [==============================] - 0s 399us/step - loss: 4.1957 - dense_19_loss: 0.8029 - dense_20_loss: 0.6851 - dense_21_loss: 0.6290 - dense_22_loss: 0.6939 - dense_23_loss: 0.5951 - dense_24_loss: 0.7896 - val_loss: 2.1029 - val_dense_19_loss: 0.3518 - val_dense_20_loss: 0.3628 - val_dense_21_loss: 0.3304 - val_dense_22_loss: 0.3570 - val_dense_23_loss: 0.3195 - val_dense_24_loss: 0.3814\n",
      "Epoch 66/200\n",
      "238/238 [==============================] - 0s 529us/step - loss: 4.1528 - dense_19_loss: 0.7923 - dense_20_loss: 0.6706 - dense_21_loss: 0.6308 - dense_22_loss: 0.6908 - dense_23_loss: 0.5822 - dense_24_loss: 0.7860 - val_loss: 2.1159 - val_dense_19_loss: 0.3450 - val_dense_20_loss: 0.3606 - val_dense_21_loss: 0.3393 - val_dense_22_loss: 0.3528 - val_dense_23_loss: 0.3551 - val_dense_24_loss: 0.3630\n",
      "Epoch 67/200\n",
      "238/238 [==============================] - 0s 493us/step - loss: 4.1771 - dense_19_loss: 0.7970 - dense_20_loss: 0.6749 - dense_21_loss: 0.6329 - dense_22_loss: 0.6852 - dense_23_loss: 0.5845 - dense_24_loss: 0.8026 - val_loss: 2.0486 - val_dense_19_loss: 0.3310 - val_dense_20_loss: 0.3633 - val_dense_21_loss: 0.3386 - val_dense_22_loss: 0.3453 - val_dense_23_loss: 0.3297 - val_dense_24_loss: 0.3407\n",
      "Epoch 68/200\n",
      "238/238 [==============================] - 0s 475us/step - loss: 4.0695 - dense_19_loss: 0.7794 - dense_20_loss: 0.6553 - dense_21_loss: 0.6198 - dense_22_loss: 0.6874 - dense_23_loss: 0.5701 - dense_24_loss: 0.7574 - val_loss: 2.1342 - val_dense_19_loss: 0.3378 - val_dense_20_loss: 0.3774 - val_dense_21_loss: 0.3365 - val_dense_22_loss: 0.3418 - val_dense_23_loss: 0.3481 - val_dense_24_loss: 0.3925\n",
      "Epoch 69/200\n",
      "238/238 [==============================] - 0s 422us/step - loss: 4.0374 - dense_19_loss: 0.7680 - dense_20_loss: 0.6494 - dense_21_loss: 0.6164 - dense_22_loss: 0.6578 - dense_23_loss: 0.5738 - dense_24_loss: 0.7720 - val_loss: 2.0785 - val_dense_19_loss: 0.3418 - val_dense_20_loss: 0.3724 - val_dense_21_loss: 0.3312 - val_dense_22_loss: 0.3550 - val_dense_23_loss: 0.3156 - val_dense_24_loss: 0.3625\n",
      "Epoch 70/200\n",
      "238/238 [==============================] - 0s 447us/step - loss: 3.9585 - dense_19_loss: 0.7613 - dense_20_loss: 0.6362 - dense_21_loss: 0.6129 - dense_22_loss: 0.6491 - dense_23_loss: 0.5572 - dense_24_loss: 0.7419 - val_loss: 2.0818 - val_dense_19_loss: 0.3332 - val_dense_20_loss: 0.3613 - val_dense_21_loss: 0.3329 - val_dense_22_loss: 0.3515 - val_dense_23_loss: 0.3464 - val_dense_24_loss: 0.3566\n",
      "Epoch 71/200\n",
      "238/238 [==============================] - 0s 414us/step - loss: 4.0126 - dense_19_loss: 0.7681 - dense_20_loss: 0.6550 - dense_21_loss: 0.5965 - dense_22_loss: 0.6566 - dense_23_loss: 0.5742 - dense_24_loss: 0.7622 - val_loss: 1.9983 - val_dense_19_loss: 0.3254 - val_dense_20_loss: 0.3448 - val_dense_21_loss: 0.3315 - val_dense_22_loss: 0.3429 - val_dense_23_loss: 0.3130 - val_dense_24_loss: 0.3407\n",
      "Epoch 72/200\n",
      "238/238 [==============================] - 0s 450us/step - loss: 3.8873 - dense_19_loss: 0.7250 - dense_20_loss: 0.6454 - dense_21_loss: 0.5980 - dense_22_loss: 0.6392 - dense_23_loss: 0.5557 - dense_24_loss: 0.7241 - val_loss: 2.1018 - val_dense_19_loss: 0.3474 - val_dense_20_loss: 0.3635 - val_dense_21_loss: 0.3300 - val_dense_22_loss: 0.3535 - val_dense_23_loss: 0.3379 - val_dense_24_loss: 0.3695\n",
      "Epoch 73/200\n",
      "238/238 [==============================] - 0s 536us/step - loss: 3.9181 - dense_19_loss: 0.7432 - dense_20_loss: 0.6363 - dense_21_loss: 0.5905 - dense_22_loss: 0.6466 - dense_23_loss: 0.5574 - dense_24_loss: 0.7441 - val_loss: 2.0608 - val_dense_19_loss: 0.3365 - val_dense_20_loss: 0.3688 - val_dense_21_loss: 0.3307 - val_dense_22_loss: 0.3461 - val_dense_23_loss: 0.3305 - val_dense_24_loss: 0.3482\n",
      "Epoch 74/200\n",
      "238/238 [==============================] - 0s 462us/step - loss: 3.8517 - dense_19_loss: 0.7208 - dense_20_loss: 0.6347 - dense_21_loss: 0.5869 - dense_22_loss: 0.6409 - dense_23_loss: 0.5387 - dense_24_loss: 0.7296 - val_loss: 1.9801 - val_dense_19_loss: 0.3182 - val_dense_20_loss: 0.3428 - val_dense_21_loss: 0.3171 - val_dense_22_loss: 0.3321 - val_dense_23_loss: 0.3160 - val_dense_24_loss: 0.3538\n",
      "Epoch 75/200\n",
      "238/238 [==============================] - 0s 483us/step - loss: 3.9109 - dense_19_loss: 0.7385 - dense_20_loss: 0.6451 - dense_21_loss: 0.5819 - dense_22_loss: 0.6493 - dense_23_loss: 0.5568 - dense_24_loss: 0.7393 - val_loss: 1.9617 - val_dense_19_loss: 0.3232 - val_dense_20_loss: 0.3331 - val_dense_21_loss: 0.3201 - val_dense_22_loss: 0.3315 - val_dense_23_loss: 0.3191 - val_dense_24_loss: 0.3346\n",
      "Epoch 76/200\n",
      "238/238 [==============================] - 0s 426us/step - loss: 3.8254 - dense_19_loss: 0.7154 - dense_20_loss: 0.6238 - dense_21_loss: 0.5865 - dense_22_loss: 0.6310 - dense_23_loss: 0.5412 - dense_24_loss: 0.7275 - val_loss: 2.0209 - val_dense_19_loss: 0.3395 - val_dense_20_loss: 0.3738 - val_dense_21_loss: 0.3176 - val_dense_22_loss: 0.3344 - val_dense_23_loss: 0.3173 - val_dense_24_loss: 0.3382\n",
      "Epoch 77/200\n",
      "238/238 [==============================] - 0s 384us/step - loss: 3.8094 - dense_19_loss: 0.7241 - dense_20_loss: 0.6223 - dense_21_loss: 0.5804 - dense_22_loss: 0.6281 - dense_23_loss: 0.5469 - dense_24_loss: 0.7077 - val_loss: 1.9540 - val_dense_19_loss: 0.3214 - val_dense_20_loss: 0.3279 - val_dense_21_loss: 0.3132 - val_dense_22_loss: 0.3346 - val_dense_23_loss: 0.3094 - val_dense_24_loss: 0.3475\n",
      "Epoch 78/200\n",
      "238/238 [==============================] - 0s 373us/step - loss: 3.7628 - dense_19_loss: 0.7067 - dense_20_loss: 0.6302 - dense_21_loss: 0.5778 - dense_22_loss: 0.6200 - dense_23_loss: 0.5270 - dense_24_loss: 0.7011 - val_loss: 1.9698 - val_dense_19_loss: 0.3292 - val_dense_20_loss: 0.3396 - val_dense_21_loss: 0.3091 - val_dense_22_loss: 0.3312 - val_dense_23_loss: 0.3244 - val_dense_24_loss: 0.3362\n",
      "Epoch 79/200\n",
      "238/238 [==============================] - 0s 375us/step - loss: 3.7369 - dense_19_loss: 0.7041 - dense_20_loss: 0.6131 - dense_21_loss: 0.5699 - dense_22_loss: 0.6256 - dense_23_loss: 0.5237 - dense_24_loss: 0.7005 - val_loss: 2.0594 - val_dense_19_loss: 0.3290 - val_dense_20_loss: 0.3540 - val_dense_21_loss: 0.3451 - val_dense_22_loss: 0.3318 - val_dense_23_loss: 0.3408 - val_dense_24_loss: 0.3587\n"
     ]
    },
    {
     "name": "stdout",
     "output_type": "stream",
     "text": [
      "Epoch 80/200\n",
      "238/238 [==============================] - 0s 380us/step - loss: 3.6924 - dense_19_loss: 0.7004 - dense_20_loss: 0.5997 - dense_21_loss: 0.5605 - dense_22_loss: 0.6195 - dense_23_loss: 0.5309 - dense_24_loss: 0.6811 - val_loss: 1.9189 - val_dense_19_loss: 0.3111 - val_dense_20_loss: 0.3415 - val_dense_21_loss: 0.3063 - val_dense_22_loss: 0.3252 - val_dense_23_loss: 0.2914 - val_dense_24_loss: 0.3434\n",
      "Epoch 81/200\n",
      "238/238 [==============================] - 0s 444us/step - loss: 3.6229 - dense_19_loss: 0.6849 - dense_20_loss: 0.5962 - dense_21_loss: 0.5546 - dense_22_loss: 0.5963 - dense_23_loss: 0.5171 - dense_24_loss: 0.6738 - val_loss: 2.0380 - val_dense_19_loss: 0.3340 - val_dense_20_loss: 0.3518 - val_dense_21_loss: 0.3202 - val_dense_22_loss: 0.3459 - val_dense_23_loss: 0.3497 - val_dense_24_loss: 0.3365\n",
      "Epoch 82/200\n",
      "238/238 [==============================] - 0s 382us/step - loss: 3.6819 - dense_19_loss: 0.6907 - dense_20_loss: 0.6065 - dense_21_loss: 0.5579 - dense_22_loss: 0.6250 - dense_23_loss: 0.5180 - dense_24_loss: 0.6837 - val_loss: 1.8908 - val_dense_19_loss: 0.3028 - val_dense_20_loss: 0.3207 - val_dense_21_loss: 0.3128 - val_dense_22_loss: 0.3162 - val_dense_23_loss: 0.2993 - val_dense_24_loss: 0.3390\n",
      "Epoch 83/200\n",
      "238/238 [==============================] - 0s 353us/step - loss: 3.6265 - dense_19_loss: 0.6778 - dense_20_loss: 0.6021 - dense_21_loss: 0.5477 - dense_22_loss: 0.6090 - dense_23_loss: 0.5123 - dense_24_loss: 0.6776 - val_loss: 1.9209 - val_dense_19_loss: 0.3143 - val_dense_20_loss: 0.3391 - val_dense_21_loss: 0.3124 - val_dense_22_loss: 0.3275 - val_dense_23_loss: 0.3028 - val_dense_24_loss: 0.3247\n",
      "Epoch 84/200\n",
      "238/238 [==============================] - 0s 367us/step - loss: 3.5855 - dense_19_loss: 0.6792 - dense_20_loss: 0.5878 - dense_21_loss: 0.5466 - dense_22_loss: 0.5969 - dense_23_loss: 0.5099 - dense_24_loss: 0.6651 - val_loss: 1.9639 - val_dense_19_loss: 0.3166 - val_dense_20_loss: 0.3431 - val_dense_21_loss: 0.3020 - val_dense_22_loss: 0.3178 - val_dense_23_loss: 0.3374 - val_dense_24_loss: 0.3469\n",
      "Epoch 85/200\n",
      "238/238 [==============================] - 0s 459us/step - loss: 3.5898 - dense_19_loss: 0.6752 - dense_20_loss: 0.6028 - dense_21_loss: 0.5467 - dense_22_loss: 0.6019 - dense_23_loss: 0.5013 - dense_24_loss: 0.6619 - val_loss: 1.8906 - val_dense_19_loss: 0.3005 - val_dense_20_loss: 0.3202 - val_dense_21_loss: 0.3190 - val_dense_22_loss: 0.3153 - val_dense_23_loss: 0.2942 - val_dense_24_loss: 0.3414\n",
      "Epoch 86/200\n",
      "238/238 [==============================] - 0s 417us/step - loss: 3.5528 - dense_19_loss: 0.6675 - dense_20_loss: 0.5964 - dense_21_loss: 0.5376 - dense_22_loss: 0.5864 - dense_23_loss: 0.5102 - dense_24_loss: 0.6548 - val_loss: 1.9710 - val_dense_19_loss: 0.3340 - val_dense_20_loss: 0.3547 - val_dense_21_loss: 0.3148 - val_dense_22_loss: 0.3361 - val_dense_23_loss: 0.3127 - val_dense_24_loss: 0.3188\n",
      "Epoch 87/200\n",
      "238/238 [==============================] - 0s 390us/step - loss: 3.5635 - dense_19_loss: 0.6657 - dense_20_loss: 0.5838 - dense_21_loss: 0.5433 - dense_22_loss: 0.5999 - dense_23_loss: 0.5040 - dense_24_loss: 0.6668 - val_loss: 1.8560 - val_dense_19_loss: 0.3062 - val_dense_20_loss: 0.3314 - val_dense_21_loss: 0.2920 - val_dense_22_loss: 0.3030 - val_dense_23_loss: 0.3056 - val_dense_24_loss: 0.3179\n",
      "Epoch 88/200\n",
      "238/238 [==============================] - 0s 392us/step - loss: 3.5277 - dense_19_loss: 0.6486 - dense_20_loss: 0.5874 - dense_21_loss: 0.5380 - dense_22_loss: 0.5883 - dense_23_loss: 0.5066 - dense_24_loss: 0.6589 - val_loss: 1.8995 - val_dense_19_loss: 0.3162 - val_dense_20_loss: 0.3292 - val_dense_21_loss: 0.3075 - val_dense_22_loss: 0.3274 - val_dense_23_loss: 0.3022 - val_dense_24_loss: 0.3170\n",
      "Epoch 89/200\n",
      "238/238 [==============================] - 0s 393us/step - loss: 3.4755 - dense_19_loss: 0.6433 - dense_20_loss: 0.5687 - dense_21_loss: 0.5277 - dense_22_loss: 0.5826 - dense_23_loss: 0.5033 - dense_24_loss: 0.6499 - val_loss: 1.9415 - val_dense_19_loss: 0.3116 - val_dense_20_loss: 0.3436 - val_dense_21_loss: 0.3211 - val_dense_22_loss: 0.3154 - val_dense_23_loss: 0.3111 - val_dense_24_loss: 0.3387\n",
      "Epoch 90/200\n",
      "238/238 [==============================] - 0s 393us/step - loss: 3.5043 - dense_19_loss: 0.6555 - dense_20_loss: 0.5795 - dense_21_loss: 0.5251 - dense_22_loss: 0.5939 - dense_23_loss: 0.4972 - dense_24_loss: 0.6530 - val_loss: 1.8317 - val_dense_19_loss: 0.3101 - val_dense_20_loss: 0.3161 - val_dense_21_loss: 0.2977 - val_dense_22_loss: 0.3016 - val_dense_23_loss: 0.2900 - val_dense_24_loss: 0.3162\n",
      "Epoch 91/200\n",
      "238/238 [==============================] - 0s 400us/step - loss: 3.4286 - dense_19_loss: 0.6412 - dense_20_loss: 0.5519 - dense_21_loss: 0.5258 - dense_22_loss: 0.5723 - dense_23_loss: 0.4944 - dense_24_loss: 0.6430 - val_loss: 1.9467 - val_dense_19_loss: 0.3066 - val_dense_20_loss: 0.3588 - val_dense_21_loss: 0.3004 - val_dense_22_loss: 0.3290 - val_dense_23_loss: 0.3129 - val_dense_24_loss: 0.3390\n",
      "Epoch 92/200\n",
      "238/238 [==============================] - 0s 390us/step - loss: 3.4266 - dense_19_loss: 0.6245 - dense_20_loss: 0.5704 - dense_21_loss: 0.5182 - dense_22_loss: 0.5670 - dense_23_loss: 0.4957 - dense_24_loss: 0.6508 - val_loss: 1.8069 - val_dense_19_loss: 0.2978 - val_dense_20_loss: 0.3046 - val_dense_21_loss: 0.3119 - val_dense_22_loss: 0.3073 - val_dense_23_loss: 0.2848 - val_dense_24_loss: 0.3004\n",
      "Epoch 93/200\n",
      "238/238 [==============================] - 0s 374us/step - loss: 3.4016 - dense_19_loss: 0.6410 - dense_20_loss: 0.5566 - dense_21_loss: 0.5176 - dense_22_loss: 0.5764 - dense_23_loss: 0.4912 - dense_24_loss: 0.6188 - val_loss: 1.9205 - val_dense_19_loss: 0.3071 - val_dense_20_loss: 0.3444 - val_dense_21_loss: 0.2949 - val_dense_22_loss: 0.3123 - val_dense_23_loss: 0.3106 - val_dense_24_loss: 0.3512\n",
      "Epoch 94/200\n",
      "238/238 [==============================] - 0s 372us/step - loss: 3.4225 - dense_19_loss: 0.6467 - dense_20_loss: 0.5623 - dense_21_loss: 0.5230 - dense_22_loss: 0.5762 - dense_23_loss: 0.4805 - dense_24_loss: 0.6339 - val_loss: 1.8210 - val_dense_19_loss: 0.2933 - val_dense_20_loss: 0.3104 - val_dense_21_loss: 0.3086 - val_dense_22_loss: 0.3024 - val_dense_23_loss: 0.2938 - val_dense_24_loss: 0.3126\n",
      "Epoch 95/200\n",
      "238/238 [==============================] - 0s 357us/step - loss: 3.3706 - dense_19_loss: 0.6327 - dense_20_loss: 0.5527 - dense_21_loss: 0.5089 - dense_22_loss: 0.5552 - dense_23_loss: 0.4887 - dense_24_loss: 0.6324 - val_loss: 1.8708 - val_dense_19_loss: 0.3056 - val_dense_20_loss: 0.3309 - val_dense_21_loss: 0.3028 - val_dense_22_loss: 0.3160 - val_dense_23_loss: 0.3002 - val_dense_24_loss: 0.3153\n",
      "Epoch 96/200\n",
      "238/238 [==============================] - 0s 347us/step - loss: 3.3929 - dense_19_loss: 0.6333 - dense_20_loss: 0.5607 - dense_21_loss: 0.5194 - dense_22_loss: 0.5749 - dense_23_loss: 0.4722 - dense_24_loss: 0.6323 - val_loss: 1.8089 - val_dense_19_loss: 0.3014 - val_dense_20_loss: 0.3126 - val_dense_21_loss: 0.2835 - val_dense_22_loss: 0.2996 - val_dense_23_loss: 0.2959 - val_dense_24_loss: 0.3158\n",
      "Epoch 97/200\n",
      "238/238 [==============================] - 0s 390us/step - loss: 3.3302 - dense_19_loss: 0.6182 - dense_20_loss: 0.5557 - dense_21_loss: 0.5046 - dense_22_loss: 0.5513 - dense_23_loss: 0.4860 - dense_24_loss: 0.6144 - val_loss: 1.8864 - val_dense_19_loss: 0.3033 - val_dense_20_loss: 0.3260 - val_dense_21_loss: 0.3213 - val_dense_22_loss: 0.3224 - val_dense_23_loss: 0.3012 - val_dense_24_loss: 0.3122\n",
      "Stopped fitting after 97 epochs\n",
      "Saved model to disk\n"
     ]
    },
    {
     "data": {
      "text/plain": [
       "<deepimpute.multinet.MultiNet at 0x1462d8278>"
      ]
     },
     "execution_count": 5,
     "metadata": {},
     "output_type": "execute_result"
    }
   ],
   "source": [
    "# Using 80% of the data\n",
    "multinet.fit(data,cell_subset=0.5)"
   ]
  },
  {
   "cell_type": "code",
   "execution_count": null,
   "metadata": {},
   "outputs": [],
   "source": [
    "# Using 200 cells (randomly selected)\n",
    "multinet.fit(data,cell_subset=200)"
   ]
  },
  {
   "cell_type": "code",
   "execution_count": null,
   "metadata": {},
   "outputs": [],
   "source": [
    "# Custom fit\n",
    "trainingData = data.iloc[100:250,:]\n",
    "multinet.fit(trainingData)"
   ]
  },
  {
   "cell_type": "markdown",
   "metadata": {},
   "source": [
    "## Imputation\n",
    "\n",
    "The imputation can be done on any dataset as long as the gene labels are the same"
   ]
  },
  {
   "cell_type": "code",
   "execution_count": null,
   "metadata": {},
   "outputs": [],
   "source": [
    "imputedData = multinet.predict(data)"
   ]
  },
  {
   "cell_type": "markdown",
   "metadata": {},
   "source": [
    "## Visualization"
   ]
  },
  {
   "cell_type": "code",
   "execution_count": null,
   "metadata": {},
   "outputs": [],
   "source": [
    "import matplotlib.pyplot as plt\n",
    "import numpy as np\n",
    "\n",
    "limits = [0,100]\n",
    "\n",
    "fig,ax = plt.subplots()\n",
    "\n",
    "jitter = np.random.normal(0,1,data.size) # Add some jittering to better see the point density\n",
    "ax.scatter(data.values.flatten()+jitter,imputedData.values.flatten(),s=2)\n",
    "ax.plot(limits,limits,'r-.',linewidth=2)\n",
    "ax.set_xlim(limits)\n",
    "ax.set_ylim(limits)\n",
    "\n",
    "plt.show()\n"
   ]
  },
  {
   "cell_type": "markdown",
   "metadata": {},
   "source": [
    "## Scoring\n",
    "Display training metrics (MSE and Pearson's correlation on the test data)"
   ]
  },
  {
   "cell_type": "code",
   "execution_count": null,
   "metadata": {},
   "outputs": [],
   "source": [
    "multinet.test_metrics"
   ]
  }
 ],
 "metadata": {
  "kernelspec": {
   "display_name": "Python 3",
   "language": "python",
   "name": "python3"
  },
  "language_info": {
   "codemirror_mode": {
    "name": "ipython",
    "version": 3
   },
   "file_extension": ".py",
   "mimetype": "text/x-python",
   "name": "python",
   "nbconvert_exporter": "python",
   "pygments_lexer": "ipython3",
   "version": "3.7.3"
  }
 },
 "nbformat": 4,
 "nbformat_minor": 2
}
